{
 "cells": [
  {
   "cell_type": "markdown",
   "metadata": {},
   "source": [
    "### Gerekli kütüphaneler"
   ]
  },
  {
   "cell_type": "code",
   "execution_count": 1,
   "metadata": {},
   "outputs": [
    {
     "name": "stderr",
     "output_type": "stream",
     "text": [
      "C:\\Users\\golive\\Anaconda3\\lib\\site-packages\\sklearn\\feature_extraction\\text.py:17: DeprecationWarning: Using or importing the ABCs from 'collections' instead of from 'collections.abc' is deprecated since Python 3.3, and in 3.9 it will stop working\n",
      "  from collections import Mapping, defaultdict\n"
     ]
    }
   ],
   "source": [
    "import re\n",
    "import nltk\n",
    "import jpype\n",
    "import string\n",
    "import unidecode\n",
    "import pandas as pd\n",
    "from typing import List\n",
    "from nltk.tokenize import word_tokenize\n",
    "from jpype import JClass, JString, getDefaultJVMPath, shutdownJVM, startJVM, java"
   ]
  },
  {
   "cell_type": "code",
   "execution_count": 2,
   "metadata": {},
   "outputs": [],
   "source": [
    "pd.set_option('display.max_colwidth', None)"
   ]
  },
  {
   "cell_type": "code",
   "execution_count": 3,
   "metadata": {},
   "outputs": [],
   "source": [
    "df = pd.read_excel('ornek_textler.xlsx')"
   ]
  },
  {
   "cell_type": "code",
   "execution_count": 4,
   "metadata": {},
   "outputs": [
    {
     "data": {
      "text/html": [
       "<div>\n",
       "<style scoped>\n",
       "    .dataframe tbody tr th:only-of-type {\n",
       "        vertical-align: middle;\n",
       "    }\n",
       "\n",
       "    .dataframe tbody tr th {\n",
       "        vertical-align: top;\n",
       "    }\n",
       "\n",
       "    .dataframe thead th {\n",
       "        text-align: right;\n",
       "    }\n",
       "</style>\n",
       "<table border=\"1\" class=\"dataframe\">\n",
       "  <thead>\n",
       "    <tr style=\"text-align: right;\">\n",
       "      <th></th>\n",
       "      <th>Yorumlar</th>\n",
       "    </tr>\n",
       "  </thead>\n",
       "  <tbody>\n",
       "    <tr>\n",
       "      <th>0</th>\n",
       "      <td>&lt;body&gt; &lt;h3&gt; Lise 3'te arkadaşımla bir kitap fuarına gitmiştik.  &lt;/h3&gt; &lt;/body&gt;</td>\n",
       "    </tr>\n",
       "    <tr>\n",
       "      <th>1</th>\n",
       "      <td>https://www.kitapyorumlari.com da yorumlarını okumuştum.</td>\n",
       "    </tr>\n",
       "    <tr>\n",
       "      <th>2</th>\n",
       "      <td>Arkadaşım okuduğu Nar Ağacı'nı önerdi.</td>\n",
       "    </tr>\n",
       "    <tr>\n",
       "      <th>3</th>\n",
       "      <td>Adı Mor Mürekkep, kapağında bolca morluk var, sayfa sayısı da ideal deyip aldım.</td>\n",
       "    </tr>\n",
       "    <tr>\n",
       "      <th>4</th>\n",
       "      <td>O zaman ki ben için de gayet makul bir sebepti bu kitabı almak için.</td>\n",
       "    </tr>\n",
       "    <tr>\n",
       "      <th>5</th>\n",
       "      <td>Kütüphaneme bu şekilde girdi.</td>\n",
       "    </tr>\n",
       "    <tr>\n",
       "      <th>6</th>\n",
       "      <td>Neredeyse bir yıldır - okuma hevesiyle- elimde sürünen bir kitap kendisi.</td>\n",
       "    </tr>\n",
       "    <tr>\n",
       "      <th>7</th>\n",
       "      <td>Her şeyin bir zamanı var, kitaplar dahil.</td>\n",
       "    </tr>\n",
       "    <tr>\n",
       "      <th>8</th>\n",
       "      <td>Bazen bir kitap öyle bir anda gelir ki ona ihtiyacın vardır.</td>\n",
       "    </tr>\n",
       "    <tr>\n",
       "      <th>9</th>\n",
       "      <td>Bu kitabın da zamanı olduğuna inanıyorum. Bugün zamanıymış demek ki.</td>\n",
       "    </tr>\n",
       "    <tr>\n",
       "      <th>10</th>\n",
       "      <td>Bir deneme kitabı, yazarınsa okuduğum ilk kitabı.</td>\n",
       "    </tr>\n",
       "    <tr>\n",
       "      <th>11</th>\n",
       "      <td>Okuyucu yorumları iki kutuplu ya dilinin gereksiz ağır ve sanatlı olduğunu söyleyenler ya da kitaba, kitabın ortaya çıkardığı o müthiş edebi çığlığa hayran kalanlar.</td>\n",
       "    </tr>\n",
       "    <tr>\n",
       "      <th>12</th>\n",
       "      <td>İnanılmaz keyif aldım bazılarında, bazılarındansa hiçbir şey anlamadım.</td>\n",
       "    </tr>\n",
       "    <tr>\n",
       "      <th>13</th>\n",
       "      <td>Dili ağır ve sanatlı, bu tartışılamaz bir gerçek. Bense olabildiğince dümdüz, söz sanatlarından çok anlamayan edebi his ve bakış açısına sahip olmayan biriyim.</td>\n",
       "    </tr>\n",
       "    <tr>\n",
       "      <th>14</th>\n",
       "      <td>Okunması, hissedilmesi, anlaşılması, altı çizilmesi gereken cümleler var.</td>\n",
       "    </tr>\n",
       "    <tr>\n",
       "      <th>15</th>\n",
       "      <td>Kitap yorumları çok güzel olduğu için beklentimi baya yüksek tutmuştum iyi ki de öyle yapmışım cidden herkesin kitaplığı da bulunması gereken bi kitap</td>\n",
       "    </tr>\n",
       "    <tr>\n",
       "      <th>16</th>\n",
       "      <td>Yazarın diğer kitaplarına bakarken bu kitabı gördüm.</td>\n",
       "    </tr>\n",
       "  </tbody>\n",
       "</table>\n",
       "</div>"
      ],
      "text/plain": [
       "                                                                                                                                                                  Yorumlar\n",
       "0                                                                                            <body> <h3> Lise 3'te arkadaşımla bir kitap fuarına gitmiştik.  </h3> </body>\n",
       "1                                                                                                                 https://www.kitapyorumlari.com da yorumlarını okumuştum.\n",
       "2                                                                                                                                   Arkadaşım okuduğu Nar Ağacı'nı önerdi.\n",
       "3                                                                                         Adı Mor Mürekkep, kapağında bolca morluk var, sayfa sayısı da ideal deyip aldım.\n",
       "4                                                                                                    O zaman ki ben için de gayet makul bir sebepti bu kitabı almak için. \n",
       "5                                                                                                                                            Kütüphaneme bu şekilde girdi.\n",
       "6                                                                                               Neredeyse bir yıldır - okuma hevesiyle- elimde sürünen bir kitap kendisi. \n",
       "7                                                                                                                                Her şeyin bir zamanı var, kitaplar dahil.\n",
       "8                                                                                                             Bazen bir kitap öyle bir anda gelir ki ona ihtiyacın vardır.\n",
       "9                                                                                                     Bu kitabın da zamanı olduğuna inanıyorum. Bugün zamanıymış demek ki.\n",
       "10                                                                                                                       Bir deneme kitabı, yazarınsa okuduğum ilk kitabı.\n",
       "11   Okuyucu yorumları iki kutuplu ya dilinin gereksiz ağır ve sanatlı olduğunu söyleyenler ya da kitaba, kitabın ortaya çıkardığı o müthiş edebi çığlığa hayran kalanlar.\n",
       "12                                                                                                 İnanılmaz keyif aldım bazılarında, bazılarındansa hiçbir şey anlamadım.\n",
       "13         Dili ağır ve sanatlı, bu tartışılamaz bir gerçek. Bense olabildiğince dümdüz, söz sanatlarından çok anlamayan edebi his ve bakış açısına sahip olmayan biriyim.\n",
       "14                                                                                               Okunması, hissedilmesi, anlaşılması, altı çizilmesi gereken cümleler var.\n",
       "15                  Kitap yorumları çok güzel olduğu için beklentimi baya yüksek tutmuştum iyi ki de öyle yapmışım cidden herkesin kitaplığı da bulunması gereken bi kitap\n",
       "16                                                                                                                    Yazarın diğer kitaplarına bakarken bu kitabı gördüm."
      ]
     },
     "execution_count": 4,
     "metadata": {},
     "output_type": "execute_result"
    }
   ],
   "source": [
    "df"
   ]
  },
  {
   "cell_type": "markdown",
   "metadata": {},
   "source": [
    "Dataframeler ile çalışırken öncellikle veri özelliklerine bakmanız gerekli.\n",
    "Mesela eğer boş olan satırlar var ise silinmelidir."
   ]
  },
  {
   "cell_type": "markdown",
   "metadata": {},
   "source": [
    "Eksik değer kontrolü"
   ]
  },
  {
   "cell_type": "code",
   "execution_count": 5,
   "metadata": {},
   "outputs": [
    {
     "data": {
      "text/plain": [
       "Yorumlar    0\n",
       "dtype: int64"
      ]
     },
     "execution_count": 5,
     "metadata": {},
     "output_type": "execute_result"
    }
   ],
   "source": [
    "df.isna().sum()"
   ]
  },
  {
   "cell_type": "code",
   "execution_count": 6,
   "metadata": {},
   "outputs": [],
   "source": [
    "df['Yorumlar'].dropna(inplace=True)"
   ]
  },
  {
   "cell_type": "code",
   "execution_count": 64,
   "metadata": {},
   "outputs": [
    {
     "name": "stdout",
     "output_type": "stream",
     "text": [
      "<class 'pandas.core.frame.DataFrame'>\n",
      "RangeIndex: 17 entries, 0 to 16\n",
      "Data columns (total 1 columns):\n",
      " #   Column    Non-Null Count  Dtype \n",
      "---  ------    --------------  ----- \n",
      " 0   Yorumlar  17 non-null     object\n",
      "dtypes: object(1)\n",
      "memory usage: 264.0+ bytes\n"
     ]
    }
   ],
   "source": [
    "df.info()"
   ]
  },
  {
   "cell_type": "markdown",
   "metadata": {},
   "source": [
    "1. URL ve HMTL taglerini kaldırma"
   ]
  },
  {
   "cell_type": "code",
   "execution_count": 7,
   "metadata": {},
   "outputs": [],
   "source": [
    "def remove_HTML_tags(text):\n",
    "    html_pattern = r'<.*?>'\n",
    "    text = re.sub(pattern=html_pattern, repl=' ', string=text)\n",
    "    return text"
   ]
  },
  {
   "cell_type": "code",
   "execution_count": 8,
   "metadata": {},
   "outputs": [],
   "source": [
    "def remove_URL(text):\n",
    "    text = re.sub('https\\S+', '', text)\n",
    "    return text"
   ]
  },
  {
   "cell_type": "code",
   "execution_count": 9,
   "metadata": {},
   "outputs": [],
   "source": [
    "df['Yorumlar'] = df['Yorumlar'].apply(remove_HTML_tags)\n",
    "df['Yorumlar'] = df['Yorumlar'].apply(remove_URL)"
   ]
  },
  {
   "cell_type": "markdown",
   "metadata": {},
   "source": [
    "3. Lemmatizer"
   ]
  },
  {
   "cell_type": "code",
   "execution_count": 10,
   "metadata": {},
   "outputs": [],
   "source": [
    "def tokenizasyon(text):\n",
    "    return word_tokenize(text)"
   ]
  },
  {
   "cell_type": "code",
   "execution_count": 11,
   "metadata": {},
   "outputs": [],
   "source": [
    "def lemmatizer(text):\n",
    "    lemma_words = []\n",
    "    ZEMBEREK_PATH = 'zemberek-full_old.jar'\n",
    "    if jpype.isJVMStarted() is False:\n",
    "        startJVM(getDefaultJVMPath(), '-ea', '-Djava.class.path=%s' % (ZEMBEREK_PATH))\n",
    "    TurkishMorphology = JClass('zemberek.morphology.TurkishMorphology')\n",
    "    morphology = TurkishMorphology.createWithDefaults()\n",
    "    for text in tokenizasyon(text):\n",
    "        lemma_word = str(morphology.analyzeAndDisambiguate(str(text)).bestAnalysis()[0].getLemmas()[0])\n",
    "        lemma_words.append(lemma_word)\n",
    "    text = ' '.join(lemma_words)\n",
    "    return text\n"
   ]
  },
  {
   "cell_type": "code",
   "execution_count": 12,
   "metadata": {},
   "outputs": [],
   "source": [
    "df['Yorumlar'] = df['Yorumlar'].apply(lemmatizer)"
   ]
  },
  {
   "cell_type": "markdown",
   "metadata": {},
   "source": [
    "4. Küçük harfe çevirmek"
   ]
  },
  {
   "cell_type": "code",
   "execution_count": 13,
   "metadata": {},
   "outputs": [],
   "source": [
    "def convert_lowercase(text):\n",
    "    return text.lower()"
   ]
  },
  {
   "cell_type": "code",
   "execution_count": 14,
   "metadata": {},
   "outputs": [],
   "source": [
    "df['Yorumlar'] = df['Yorumlar'].apply(convert_lowercase)"
   ]
  },
  {
   "cell_type": "markdown",
   "metadata": {},
   "source": [
    "5. Özel karakterlerin kaldırılması"
   ]
  },
  {
   "cell_type": "code",
   "execution_count": 15,
   "metadata": {},
   "outputs": [],
   "source": [
    "def remove_punctuation(text):\n",
    "    return ''.join(d for d in text if d not in string.punctuation)\n"
   ]
  },
  {
   "cell_type": "code",
   "execution_count": 16,
   "metadata": {},
   "outputs": [],
   "source": [
    "df['Yorumlar'] = df['Yorumlar'].apply(remove_punctuation)"
   ]
  },
  {
   "cell_type": "markdown",
   "metadata": {},
   "source": [
    "6. Stopwordlerin kaldırılması"
   ]
  },
  {
   "cell_type": "code",
   "execution_count": 17,
   "metadata": {},
   "outputs": [],
   "source": [
    "def remove_stopwords(text):\n",
    "    stopwords = []\n",
    "    with open('stopwords.txt', 'r',encoding='utf-8') as f:\n",
    "        for word in f:\n",
    "            word = word.split('\\n')\n",
    "            stopwords.append(word[0])\n",
    "    clean_text = ' '.join(s for  s in text.split() if s not in stopwords)\n",
    "    return clean_text"
   ]
  },
  {
   "cell_type": "code",
   "execution_count": 18,
   "metadata": {},
   "outputs": [],
   "source": [
    "df['Yorumlar'] = df['Yorumlar'].apply(remove_stopwords)"
   ]
  },
  {
   "cell_type": "markdown",
   "metadata": {},
   "source": [
    "7. Fazla boşlukların silinmesi"
   ]
  },
  {
   "cell_type": "code",
   "execution_count": 19,
   "metadata": {},
   "outputs": [],
   "source": [
    "def clean_extra_space(text):\n",
    "    text = re.sub(' +', ' ', text)\n",
    "    return text.strip()"
   ]
  },
  {
   "cell_type": "code",
   "execution_count": 20,
   "metadata": {},
   "outputs": [],
   "source": [
    "df['Yorumlar'] = df['Yorumlar'].apply(clean_extra_space)"
   ]
  },
  {
   "cell_type": "markdown",
   "metadata": {},
   "source": [
    "8. Asciification"
   ]
  },
  {
   "cell_type": "code",
   "execution_count": 21,
   "metadata": {},
   "outputs": [],
   "source": [
    "def convert_ascii(text):\n",
    "    text = unidecode.unidecode(text)\n",
    "    return text"
   ]
  },
  {
   "cell_type": "code",
   "execution_count": 22,
   "metadata": {},
   "outputs": [],
   "source": [
    "df['Yorumlar'] = df['Yorumlar'].apply(convert_ascii)"
   ]
  },
  {
   "cell_type": "markdown",
   "metadata": {},
   "source": [
    "9. Sayıları kaldırmak"
   ]
  },
  {
   "cell_type": "code",
   "execution_count": 23,
   "metadata": {},
   "outputs": [],
   "source": [
    "def remove_numbers(text):\n",
    "    text = re.sub(r'\\d', '', text)\n",
    "    return text"
   ]
  },
  {
   "cell_type": "code",
   "execution_count": 24,
   "metadata": {},
   "outputs": [],
   "source": [
    "df['Yorumlar'] = df['Yorumlar'].apply(remove_numbers)"
   ]
  },
  {
   "cell_type": "markdown",
   "metadata": {},
   "source": [
    "10. Metin uzunluğu 2'den küçük olan verileri kaldırmak"
   ]
  },
  {
   "cell_type": "code",
   "execution_count": 25,
   "metadata": {},
   "outputs": [],
   "source": [
    "def remove_less_than_2(text):\n",
    "    text = ' '.join([w for w in text.split() if len(w)>2])\n",
    "    return text"
   ]
  },
  {
   "cell_type": "code",
   "execution_count": 26,
   "metadata": {},
   "outputs": [],
   "source": [
    "df['Yorumlar'] = df['Yorumlar'].apply(remove_less_than_2)"
   ]
  },
  {
   "cell_type": "markdown",
   "metadata": {},
   "source": [
    "WordCloud"
   ]
  },
  {
   "cell_type": "code",
   "execution_count": 59,
   "metadata": {},
   "outputs": [],
   "source": [
    "from wordcloud import WordCloud, STOPWORDS, ImageColorGenerator\n",
    "import matplotlib.pyplot as plt"
   ]
  },
  {
   "cell_type": "code",
   "execution_count": 60,
   "metadata": {
    "scrolled": true
   },
   "outputs": [
    {
     "data": {
      "image/png": "[encoded data removed]",
      "text/plain": [
       "<Figure size 432x288 with 1 Axes>"
      ]
     },
     "metadata": {
      "needs_background": "light"
     },
     "output_type": "display_data"
    }
   ],
   "source": [
    "wordcloud = WordCloud().generate(' '.join(text))\n",
    "\n",
    "plt.imshow(wordcloud,interpolation='bilinear')\n",
    "plt.axis('off')\n",
    "plt.show()"
   ]
  },
  {
   "cell_type": "markdown",
   "metadata": {},
   "source": [
    "En çok geçen kelimeler"
   ]
  },
  {
   "cell_type": "code",
   "execution_count": 61,
   "metadata": {},
   "outputs": [],
   "source": [
    "from collections import Counter\n",
    "import seaborn as sns"
   ]
  },
  {
   "cell_type": "code",
   "execution_count": 62,
   "metadata": {},
   "outputs": [],
   "source": [
    "kelimeler = []\n",
    "tokens = df['Yorumlar'].apply(tokenizasyon)\n",
    "tokens = tokens.values.tolist()\n",
    "for token in tokens:\n",
    "    for tok in token:\n",
    "        kelimeler.append(tok)"
   ]
  },
  {
   "cell_type": "code",
   "execution_count": 63,
   "metadata": {},
   "outputs": [
    {
     "data": {
      "text/plain": [
       "<AxesSubplot:>"
      ]
     },
     "execution_count": 63,
     "metadata": {},
     "output_type": "execute_result"
    },
    {
     "data": {
      "image/png": "[encoded data removed]",
      "text/plain": [
       "<Figure size 432x288 with 1 Axes>"
      ]
     },
     "metadata": {
      "needs_background": "light"
     },
     "output_type": "display_data"
    }
   ],
   "source": [
    "counter = Counter(kelimeler)\n",
    "most = counter.most_common()\n",
    "\n",
    "x, y = [], []\n",
    "for word,count in most[:10]:\n",
    "    x.append(word)\n",
    "    y.append(count)\n",
    "        \n",
    "sns.barplot(x=y,y=x)"
   ]
  }
 ],
 "metadata": {
  "kernelspec": {
   "display_name": "Python 3",
   "language": "python",
   "name": "python3"
  },
  "language_info": {
   "codemirror_mode": {
    "name": "ipython",
    "version": 3
   },
   "file_extension": ".py",
   "mimetype": "text/x-python",
   "name": "python",
   "nbconvert_exporter": "python",
   "pygments_lexer": "ipython3",
   "version": "3.8.5"
  }
 },
 "nbformat": 4,
 "nbformat_minor": 4
}
