{
 "cells": [
  {
   "cell_type": "code",
   "execution_count": 1,
   "metadata": {},
   "outputs": [],
   "source": [
    "import re\n",
    "import nltk\n",
    "import jpype\n",
    "import string\n",
    "import numpy as np\n",
    "import pandas as pd\n",
    "from sklearn import preprocessing\n",
    "from nltk.tokenize import word_tokenize\n",
    "from sklearn.model_selection import train_test_split\n",
    "from sklearn.metrics import confusion_matrix,accuracy_score,classification_report,precision_score\n",
    "from jpype import JClass, JString, getDefaultJVMPath, shutdownJVM, startJVM, java"
   ]
  },
  {
   "cell_type": "code",
   "execution_count": 2,
   "metadata": {},
   "outputs": [],
   "source": [
    "from gensim.models.fasttext import FastText"
   ]
  },
  {
   "cell_type": "code",
   "execution_count": 9,
   "metadata": {},
   "outputs": [],
   "source": [
    "from sklearn.metrics import accuracy_score\n",
    "from sklearn import model_selection, naive_bayes, svm"
   ]
  },
  {
   "cell_type": "code",
   "execution_count": 3,
   "metadata": {},
   "outputs": [],
   "source": [
    "df = pd.read_csv(\"7allV03.csv\")"
   ]
  },
  {
   "cell_type": "code",
   "execution_count": 4,
   "metadata": {},
   "outputs": [],
   "source": [
    "encoder = preprocessing.LabelEncoder()\n",
    "y = encoder.fit_transform(df.category)"
   ]
  },
  {
   "cell_type": "code",
   "execution_count": 5,
   "metadata": {},
   "outputs": [],
   "source": [
    "def tokenizasyon(text):\n",
    "    return word_tokenize(text)\n",
    "def lemmatizer(text):\n",
    "    lemma_words = []\n",
    "    ZEMBEREK_PATH = 'zemberek-full_old.jar'\n",
    "    if jpype.isJVMStarted() is False:\n",
    "        startJVM(getDefaultJVMPath(), '-ea', '-Djava.class.path=%s' % (ZEMBEREK_PATH))\n",
    "    TurkishMorphology = JClass('zemberek.morphology.TurkishMorphology')\n",
    "    morphology = TurkishMorphology.createWithDefaults()\n",
    "    for text in tokenizasyon(text):\n",
    "        lemma_word = str(morphology.analyzeAndDisambiguate(str(text)).bestAnalysis()[0].getLemmas()[0])\n",
    "        lemma_words.append(lemma_word)\n",
    "    text = ' '.join(lemma_words)\n",
    "    return text\n",
    "\n",
    "def convert_lowercase(text):\n",
    "    return text.lower()\n",
    "def remove_punctuation(text):\n",
    "    return ''.join(d for d in text if d not in string.punctuation)\n",
    "def remove_stopwords(text):\n",
    "    stopwords = []\n",
    "    with open('stopwords.txt', 'r',encoding='utf-8') as f:\n",
    "        for word in f:\n",
    "            word = word.split('\\n')\n",
    "            stopwords.append(word[0])\n",
    "    clean_text = ' '.join(s for  s in text.split() if s not in stopwords)\n",
    "    return clean_text\n",
    "def remove_numbers(text):\n",
    "    text = re.sub(r'\\d', '', text)\n",
    "    return text\n",
    "def remove_less_than_2(text):\n",
    "    text = ' '.join([w for w in text.split() if len(w)>2])\n",
    "    return text\n",
    "def remove_extra_space(text):\n",
    "    ornek_text_strip = re.sub(' +', ' ', text)\n",
    "    return ornek_text_strip.strip()"
   ]
  },
  {
   "cell_type": "code",
   "execution_count": 6,
   "metadata": {},
   "outputs": [],
   "source": [
    "df['text'] = df['text'].apply(lemmatizer)\n",
    "df['text'] = df['text'].apply(convert_lowercase)\n",
    "df['text'] = df['text'].apply(remove_punctuation)\n",
    "df['text'] = df['text'].apply(remove_stopwords)\n",
    "df['text'] = df['text'].apply(remove_extra_space)\n",
    "df['text'] = df['text'].apply(remove_numbers)\n",
    "df['text'] = df['text'].apply(remove_less_than_2)"
   ]
  },
  {
   "cell_type": "code",
   "execution_count": 7,
   "metadata": {},
   "outputs": [],
   "source": [
    "X = df.text"
   ]
  },
  {
   "cell_type": "code",
   "execution_count": 8,
   "metadata": {},
   "outputs": [],
   "source": [
    "X_train,X_test,y_train,y_test = train_test_split(X,y,test_size=0.2,random_state=42)"
   ]
  },
  {
   "cell_type": "code",
   "execution_count": 10,
   "metadata": {},
   "outputs": [],
   "source": [
    "corpus = []\n",
    "for t in df.text:\n",
    "    words = t.split()\n",
    "    corpus.append([\" \".join(words[i:i+1]) \n",
    "               for i in range(0, len(words), 1)])"
   ]
  },
  {
   "cell_type": "code",
   "execution_count": 11,
   "metadata": {},
   "outputs": [],
   "source": [
    "ft_model = FastText(corpus, size=256, window=50, min_count=5, sg=1, iter=50)"
   ]
  },
  {
   "cell_type": "code",
   "execution_count": 12,
   "metadata": {},
   "outputs": [
    {
     "data": {
      "text/plain": [
       "[('siyasi', 0.8612145781517029),\n",
       " ('şey', 0.8573281764984131),\n",
       " ('kim', 0.8504077792167664),\n",
       " ('hükümet', 0.8497319221496582),\n",
       " ('bütün', 0.845577597618103),\n",
       " ('parti', 0.842879056930542),\n",
       " ('alt', 0.8406243324279785),\n",
       " ('ana', 0.840239942073822),\n",
       " ('siz', 0.8385493755340576),\n",
       " ('olay', 0.8378793001174927)]"
      ]
     },
     "execution_count": 12,
     "metadata": {},
     "output_type": "execute_result"
    }
   ],
   "source": [
    "ft_model.wv.most_similar(\"siyaset\")"
   ]
  },
  {
   "cell_type": "code",
   "execution_count": 13,
   "metadata": {},
   "outputs": [],
   "source": [
    "def vectorizer(model, X):\n",
    "    return np.array([\n",
    "        np.mean([model.wv[w] for w in document.split() if model.wv.__contains__(w)], axis=0)\n",
    "        for document in X\n",
    "    ])"
   ]
  },
  {
   "cell_type": "code",
   "execution_count": 14,
   "metadata": {},
   "outputs": [],
   "source": [
    "feature_matrix = vectorizer(ft_model, X_train)"
   ]
  },
  {
   "cell_type": "code",
   "execution_count": 16,
   "metadata": {},
   "outputs": [
    {
     "name": "stdout",
     "output_type": "stream",
     "text": [
      "Accuracy Score ->  86.63265306122449\n"
     ]
    }
   ],
   "source": [
    "SVM = svm.SVC(C=1.0, kernel='linear', degree=3, gamma='auto')\n",
    "SVM.fit(feature_matrix,y_train)\n",
    "\n",
    "test_feature_matrix = vectorizer(ft_model, X_test)\n",
    "\n",
    "predictions = SVM.predict(test_feature_matrix)\n",
    "print(\"Accuracy Score -> \",accuracy_score(predictions, y_test)*100)"
   ]
  },
  {
   "cell_type": "code",
   "execution_count": null,
   "metadata": {},
   "outputs": [],
   "source": []
  }
 ],
 "metadata": {
  "kernelspec": {
   "display_name": "Python 3",
   "language": "python",
   "name": "python3"
  },
  "language_info": {
   "codemirror_mode": {
    "name": "ipython",
    "version": 3
   },
   "file_extension": ".py",
   "mimetype": "text/x-python",
   "name": "python",
   "nbconvert_exporter": "python",
   "pygments_lexer": "ipython3",
   "version": "3.8.5"
  }
 },
 "nbformat": 4,
 "nbformat_minor": 4
}
