{
 "cells": [
  {
   "cell_type": "markdown",
   "metadata": {},
   "source": [
    "### NLP METİN İŞLEME ADIMLARI"
   ]
  },
  {
   "cell_type": "markdown",
   "metadata": {},
   "source": [
    "### Gerekli kütüphaneler"
   ]
  },
  {
   "cell_type": "code",
   "execution_count": 1,
   "metadata": {},
   "outputs": [
    {
     "name": "stderr",
     "output_type": "stream",
     "text": [
      "C:\\Users\\golive\\Anaconda3\\lib\\site-packages\\sklearn\\feature_extraction\\text.py:17: DeprecationWarning: Using or importing the ABCs from 'collections' instead of from 'collections.abc' is deprecated since Python 3.3, and in 3.9 it will stop working\n",
      "  from collections import Mapping, defaultdict\n"
     ]
    }
   ],
   "source": [
    "import re\n",
    "import nltk\n",
    "\n",
    "import jpype\n",
    "import string\n",
    "import unidecode\n",
    "from typing import List\n",
    "from nltk.tokenize import word_tokenize\n",
    "from jpype import JClass, JString, getDefaultJVMPath, shutdownJVM, startJVM, java"
   ]
  },
  {
   "cell_type": "markdown",
   "metadata": {},
   "source": [
    "1. Tokenizasyon"
   ]
  },
  {
   "cell_type": "code",
   "execution_count": 2,
   "metadata": {},
   "outputs": [],
   "source": [
    "ornek_text = '''İnternette değil de, kitapçıda gezerken yapmaktan hoşlandığım bir şey var. \n",
    "Rastgele kitapları karıştırmak ve heyecanlandıran, elimden bırakmak istemediğim kitabı alıp gitmek. \n",
    "Bu da öyle bir kitaptı benim için. \n",
    "Migros'ta gezerken 103. sayfasındaki \"Rüyalar ve Yorumları\" isimli bölüm başlığını görünce aynı hisse kapıldım ve aldım. \n",
    "Ne kadar heyecanla başlamış olsam da çok sevdim diyebileceğim bir kitap olmadı benim için. \n",
    "Bunun en büyük sebebi aynı şeylerin sürekli tekrarlandığı hissi vermesiydi. \n",
    "Bu sebeple kitabın daha kısa olmasını tercih ederdim. Ama yine de \"Bireysel Psikoloji\", \"Aşağılık ve Üstünlük Kompleksi\", \n",
    "\"Aşk ve Evlilik\" kısacası yaşam adına temel şeyleri kavratan ve gözlemler sonucu birilerinin hakkında bu konularda tahmin \n",
    "yürütmeyi sağlatan bir kitap olduğunu söylemeden edemeyeceğim. Psikoloji severler, merak edenler deneyebilirler. :)'''"
   ]
  },
  {
   "cell_type": "code",
   "execution_count": 5,
   "metadata": {},
   "outputs": [],
   "source": [
    "def tokenizasyon(text):\n",
    "    return word_tokenize(text)"
   ]
  },
  {
   "cell_type": "markdown",
   "metadata": {},
   "source": [
    "2. Lemmatizer"
   ]
  },
  {
   "cell_type": "code",
   "execution_count": 7,
   "metadata": {},
   "outputs": [],
   "source": [
    "def lemmatizer(text):\n",
    "    lemma_words = []\n",
    "    ZEMBEREK_PATH = 'zemberek-full_old.jar'\n",
    "    if jpype.isJVMStarted() is False:\n",
    "        startJVM(getDefaultJVMPath(), '-ea', '-Djava.class.path=%s' % (ZEMBEREK_PATH))\n",
    "    TurkishMorphology = JClass('zemberek.morphology.TurkishMorphology')\n",
    "    morphology = TurkishMorphology.createWithDefaults()\n",
    "    for text in tokenizasyon(text):\n",
    "        lemma_word = str(morphology.analyzeAndDisambiguate(str(text)).bestAnalysis()[0].getLemmas()[0])\n",
    "        lemma_words.append(lemma_word)\n",
    "    return lemma_words\n",
    " "
   ]
  },
  {
   "cell_type": "markdown",
   "metadata": {},
   "source": [
    "3. Stemmer"
   ]
  },
  {
   "cell_type": "code",
   "execution_count": null,
   "metadata": {},
   "outputs": [],
   "source": [
    "def stemmer(text):\n",
    "    stem_words = []\n",
    "    ZEMBEREK_PATH = 'zemberek-full_old.jar'\n",
    "    if jpype.isJVMStarted() is False:\n",
    "        startJVM(getDefaultJVMPath(), '-ea', '-Djava.class.path=%s' % (ZEMBEREK_PATH))\n",
    "    TurkishMorphology = JClass('zemberek.morphology.TurkishMorphology')\n",
    "    morphology = TurkishMorphology.createWithDefaults()\n",
    "    for text in tokenizasyon(text):\n",
    "        stem_word = str(morphology.analyzeAndDisambiguate(str(text)).bestAnalysis()[0].getStems()[0])\n",
    "        stem_words.append(stem_word)\n",
    "    return stem_words"
   ]
  },
  {
   "cell_type": "code",
   "execution_count": null,
   "metadata": {},
   "outputs": [],
   "source": [
    "stemmer(ornek_text)"
   ]
  },
  {
   "cell_type": "markdown",
   "metadata": {},
   "source": [
    "Ben bu çalışmada lemmatizer kullacağım."
   ]
  },
  {
   "cell_type": "code",
   "execution_count": 9,
   "metadata": {},
   "outputs": [],
   "source": [
    "ornek_text = ' '.join(lemmatizer(ornek_text))"
   ]
  },
  {
   "cell_type": "markdown",
   "metadata": {},
   "source": [
    "## Gürültü Kaldırma "
   ]
  },
  {
   "cell_type": "code",
   "execution_count": 11,
   "metadata": {},
   "outputs": [],
   "source": [
    "ornek_text = re.sub('UNK','',ornek_text)\n",
    "ornek_text_punc = re.sub('\\n','',ornek_text)"
   ]
  },
  {
   "cell_type": "markdown",
   "metadata": {},
   "source": [
    "Gürültü kaldırma işleminde istemediğim bütün durumları metinden temizlemeliyiz. Mesela lemmatizer işlemi uyguladığım metinde \n",
    "'UNK' tagiyle dönüştürülmüş anlamsız bir token var bunu temizleyelim. "
   ]
  },
  {
   "cell_type": "markdown",
   "metadata": {},
   "source": [
    "1. Küçük harfe çevirmek"
   ]
  },
  {
   "cell_type": "code",
   "execution_count": 12,
   "metadata": {},
   "outputs": [],
   "source": [
    "ornek_text_low = ornek_text.lower()"
   ]
  },
  {
   "cell_type": "markdown",
   "metadata": {},
   "source": [
    "3. Özel karakterlerin kaldırılması"
   ]
  },
  {
   "cell_type": "code",
   "execution_count": null,
   "metadata": {},
   "outputs": [],
   "source": [
    "print(string.punctuation)"
   ]
  },
  {
   "cell_type": "code",
   "execution_count": null,
   "metadata": {},
   "outputs": [],
   "source": [
    "ornek_text_punc"
   ]
  },
  {
   "cell_type": "markdown",
   "metadata": {},
   "source": [
    "3. Stopwordleri Kaldırma"
   ]
  },
  {
   "cell_type": "code",
   "execution_count": 14,
   "metadata": {},
   "outputs": [],
   "source": [
    "def remove_stopwords(text):\n",
    "    stopwords = []\n",
    "    with open('stopwords.txt', 'r',encoding='utf-8') as f:\n",
    "        for word in f:\n",
    "            word = word.split('\\n')\n",
    "            stopwords.append(word[0])\n",
    "    clean_text = ' '.join(s for s in text.split() if s not in stopwords)\n",
    "    return clean_text"
   ]
  },
  {
   "cell_type": "code",
   "execution_count": 15,
   "metadata": {},
   "outputs": [],
   "source": [
    "ornek_text_stop = remove_stopwords(ornek_text_punc)"
   ]
  },
  {
   "cell_type": "markdown",
   "metadata": {},
   "source": [
    "4. Fazla boşlukların silinmesi"
   ]
  },
  {
   "cell_type": "code",
   "execution_count": 17,
   "metadata": {},
   "outputs": [],
   "source": [
    "def remove_extra_space(text):\n",
    "    ornek_text_strip = re.sub(' +', ' ', text)\n",
    "    return ornek_text_strip.strip()"
   ]
  },
  {
   "cell_type": "code",
   "execution_count": 21,
   "metadata": {},
   "outputs": [],
   "source": [
    "ornek_text_strip = remove_extra_space(ornek_text_stop)"
   ]
  },
  {
   "cell_type": "markdown",
   "metadata": {},
   "source": [
    "5. Asciification"
   ]
  },
  {
   "cell_type": "code",
   "execution_count": 22,
   "metadata": {},
   "outputs": [],
   "source": [
    "def convert_ascii(text):\n",
    "    text = unidecode.unidecode(text)\n",
    "    return text"
   ]
  },
  {
   "cell_type": "code",
   "execution_count": 23,
   "metadata": {},
   "outputs": [],
   "source": [
    "ornek_text_ascii = convert_ascii(ornek_text_strip)"
   ]
  },
  {
   "cell_type": "markdown",
   "metadata": {},
   "source": [
    "6. Sayıları kaldırmak"
   ]
  },
  {
   "cell_type": "code",
   "execution_count": 24,
   "metadata": {},
   "outputs": [],
   "source": [
    "def remove_numbers(text):\n",
    "    text = re.sub(r'\\d', '', text)\n",
    "    return text"
   ]
  },
  {
   "cell_type": "code",
   "execution_count": 25,
   "metadata": {},
   "outputs": [],
   "source": [
    "ornek_text_number = remove_numbers(ornek_text_ascii)"
   ]
  },
  {
   "cell_type": "markdown",
   "metadata": {},
   "source": [
    "7. Metin uzunluğu 2'den küçük olan verileri kaldırmak"
   ]
  },
  {
   "cell_type": "code",
   "execution_count": 26,
   "metadata": {},
   "outputs": [],
   "source": [
    "def remove_less_than_2(text):\n",
    "    text = ' '.join([w for w in text.split() if len(w)>2])\n",
    "    return text"
   ]
  },
  {
   "cell_type": "code",
   "execution_count": 27,
   "metadata": {},
   "outputs": [],
   "source": [
    "ornek_text_2 = remove_less_than_2(ornek_text_number)"
   ]
  },
  {
   "cell_type": "markdown",
   "metadata": {},
   "source": [
    "Kodun tamamını kullanmak için fonksiyonları birleştirelim."
   ]
  },
  {
   "cell_type": "code",
   "execution_count": 29,
   "metadata": {},
   "outputs": [],
   "source": [
    "def remove_noise(text):\n",
    "    text = ' '.join(lemmatizer(text))\n",
    "    text = re.sub('UNK','',text)\n",
    "    text = re.sub('\\n','',text)\n",
    "    text = \"\".join(d for d in text if d not in string.punctuation)\n",
    "    text = remove_stopwords(text)\n",
    "    text = remove_extra_space(text)\n",
    "    text = convert_ascii(text)\n",
    "    text = remove_numbers(text)\n",
    "    text = remove_less_than_2(text)\n",
    "    return text"
   ]
  },
  {
   "cell_type": "code",
   "execution_count": 30,
   "metadata": {},
   "outputs": [],
   "source": [
    "ornek_text = remove_noise(ornek_text)"
   ]
  },
  {
   "cell_type": "markdown",
   "metadata": {},
   "source": [
    "8. URL Kaldırma"
   ]
  },
  {
   "cell_type": "code",
   "execution_count": 32,
   "metadata": {},
   "outputs": [
    {
     "data": {
      "text/plain": [
       "' da her şeyi bulabilirsiniz.'"
      ]
     },
     "execution_count": 32,
     "metadata": {},
     "output_type": "execute_result"
    }
   ],
   "source": [
    "def remove_URL(text):\n",
    "    text = re.sub('https\\S+', '', text)\n",
    "    return text\n",
    "\n",
    "remove_URL('https://www.google.com/ da her şeyi bulabilirsiniz.')"
   ]
  },
  {
   "cell_type": "markdown",
   "metadata": {},
   "source": [
    "9. HTML Taglerini Kaldırılma"
   ]
  },
  {
   "cell_type": "code",
   "execution_count": 33,
   "metadata": {},
   "outputs": [
    {
     "data": {
      "text/plain": [
       "'      HTML Taglerini Kaldırmak      '"
      ]
     },
     "execution_count": 33,
     "metadata": {},
     "output_type": "execute_result"
    }
   ],
   "source": [
    "def remove_HTML_tags(text):\n",
    "    html_pattern = r'<.*?>'\n",
    "    text = re.sub(pattern=html_pattern, repl=' ', string=text)\n",
    "    return text\n",
    "\n",
    "remove_HTML_tags('<body> <div> <h2> HTML Taglerini Kaldırmak </h2> </div> </body>')\n"
   ]
  },
  {
   "cell_type": "markdown",
   "metadata": {},
   "source": [
    "## WordCloud"
   ]
  },
  {
   "cell_type": "code",
   "execution_count": 34,
   "metadata": {},
   "outputs": [],
   "source": [
    "from wordcloud import WordCloud, STOPWORDS, ImageColorGenerator\n",
    "import matplotlib.pyplot as plt"
   ]
  },
  {
   "cell_type": "code",
   "execution_count": 36,
   "metadata": {},
   "outputs": [
    {
     "data": {
      "image/png": "[encoded data removed]",
      "text/plain": [
       "<Figure size 432x288 with 1 Axes>"
      ]
     },
     "metadata": {
      "needs_background": "light"
     },
     "output_type": "display_data"
    }
   ],
   "source": [
    "wordcloud = WordCloud().generate(ornek_text_2)\n",
    "\n",
    "# Display the generated image:\n",
    "plt.imshow(wordcloud, interpolation='bilinear')\n",
    "plt.axis('off')\n",
    "plt.show()"
   ]
  },
  {
   "cell_type": "markdown",
   "metadata": {},
   "source": [
    "WordCloud kullanarak genel olarak metinlerin konusu hakkında fikir sahibi olabilirsiniz."
   ]
  },
  {
   "cell_type": "code",
   "execution_count": null,
   "metadata": {},
   "outputs": [],
   "source": []
  }
 ],
 "metadata": {
  "kernelspec": {
   "display_name": "Python 3",
   "language": "python",
   "name": "python3"
  },
  "language_info": {
   "codemirror_mode": {
    "name": "ipython",
    "version": 3
   },
   "file_extension": ".py",
   "mimetype": "text/x-python",
   "name": "python",
   "nbconvert_exporter": "python",
   "pygments_lexer": "ipython3",
   "version": "3.8.5"
  }
 },
 "nbformat": 4,
 "nbformat_minor": 4
}
